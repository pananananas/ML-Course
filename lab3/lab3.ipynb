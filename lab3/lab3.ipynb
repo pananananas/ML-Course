{
 "cells": [
  {
   "cell_type": "markdown",
   "metadata": {},
   "source": [
    "# Drzewa Decyzyjne"
   ]
  },
  {
   "cell_type": "code",
   "execution_count": 21,
   "metadata": {},
   "outputs": [],
   "source": [
    "# Imports\n",
    "import numpy as np\n",
    "import pandas as pd\n",
    "import seaborn as sns\n",
    "import matplotlib.pyplot as plt\n",
    "from ydata_profiling import ProfileReport"
   ]
  },
  {
   "cell_type": "markdown",
   "metadata": {},
   "source": [
    "## Import zbioru Secondary Mushroom"
   ]
  },
  {
   "cell_type": "code",
   "execution_count": 22,
   "metadata": {},
   "outputs": [
    {
     "data": {
      "text/html": [
       "<div>\n",
       "<style scoped>\n",
       "    .dataframe tbody tr th:only-of-type {\n",
       "        vertical-align: middle;\n",
       "    }\n",
       "\n",
       "    .dataframe tbody tr th {\n",
       "        vertical-align: top;\n",
       "    }\n",
       "\n",
       "    .dataframe thead th {\n",
       "        text-align: right;\n",
       "    }\n",
       "</style>\n",
       "<table border=\"1\" class=\"dataframe\">\n",
       "  <thead>\n",
       "    <tr style=\"text-align: right;\">\n",
       "      <th></th>\n",
       "      <th>family</th>\n",
       "      <th>name</th>\n",
       "      <th>class</th>\n",
       "      <th>cap-diameter</th>\n",
       "      <th>cap-shape</th>\n",
       "      <th>Cap-surface</th>\n",
       "      <th>cap-color</th>\n",
       "      <th>does-bruise-or-bleed</th>\n",
       "      <th>gill-attachment</th>\n",
       "      <th>gill-spacing</th>\n",
       "      <th>...</th>\n",
       "      <th>stem-root</th>\n",
       "      <th>stem-surface</th>\n",
       "      <th>stem-color</th>\n",
       "      <th>veil-type</th>\n",
       "      <th>veil-color</th>\n",
       "      <th>has-ring</th>\n",
       "      <th>ring-type</th>\n",
       "      <th>Spore-print-color</th>\n",
       "      <th>habitat</th>\n",
       "      <th>season</th>\n",
       "    </tr>\n",
       "  </thead>\n",
       "  <tbody>\n",
       "    <tr>\n",
       "      <th>0</th>\n",
       "      <td>Amanita Family</td>\n",
       "      <td>Fly Agaric</td>\n",
       "      <td>p</td>\n",
       "      <td>[10, 20]</td>\n",
       "      <td>[x, f]</td>\n",
       "      <td>[g, h]</td>\n",
       "      <td>[e, o]</td>\n",
       "      <td>[f]</td>\n",
       "      <td>[e]</td>\n",
       "      <td>NaN</td>\n",
       "      <td>...</td>\n",
       "      <td>[s]</td>\n",
       "      <td>[y]</td>\n",
       "      <td>[w]</td>\n",
       "      <td>[u]</td>\n",
       "      <td>[w]</td>\n",
       "      <td>[t]</td>\n",
       "      <td>[g, p]</td>\n",
       "      <td>NaN</td>\n",
       "      <td>[d]</td>\n",
       "      <td>[u, a, w]</td>\n",
       "    </tr>\n",
       "    <tr>\n",
       "      <th>1</th>\n",
       "      <td>Amanita Family</td>\n",
       "      <td>Panther Cap</td>\n",
       "      <td>p</td>\n",
       "      <td>[5, 10]</td>\n",
       "      <td>[p, x]</td>\n",
       "      <td>[g]</td>\n",
       "      <td>[n]</td>\n",
       "      <td>[f]</td>\n",
       "      <td>[e]</td>\n",
       "      <td>NaN</td>\n",
       "      <td>...</td>\n",
       "      <td>NaN</td>\n",
       "      <td>[y]</td>\n",
       "      <td>[w]</td>\n",
       "      <td>[u]</td>\n",
       "      <td>[w]</td>\n",
       "      <td>[t]</td>\n",
       "      <td>[p]</td>\n",
       "      <td>NaN</td>\n",
       "      <td>[d]</td>\n",
       "      <td>[u, a]</td>\n",
       "    </tr>\n",
       "    <tr>\n",
       "      <th>2</th>\n",
       "      <td>Amanita Family</td>\n",
       "      <td>False Panther Cap</td>\n",
       "      <td>p</td>\n",
       "      <td>[10, 15]</td>\n",
       "      <td>[x, f]</td>\n",
       "      <td>NaN</td>\n",
       "      <td>[g, n]</td>\n",
       "      <td>[f]</td>\n",
       "      <td>[e]</td>\n",
       "      <td>NaN</td>\n",
       "      <td>...</td>\n",
       "      <td>NaN</td>\n",
       "      <td>NaN</td>\n",
       "      <td>[w]</td>\n",
       "      <td>[u]</td>\n",
       "      <td>[w]</td>\n",
       "      <td>[t]</td>\n",
       "      <td>[e, g]</td>\n",
       "      <td>NaN</td>\n",
       "      <td>[d]</td>\n",
       "      <td>[u, a]</td>\n",
       "    </tr>\n",
       "    <tr>\n",
       "      <th>3</th>\n",
       "      <td>Amanita Family</td>\n",
       "      <td>The Blusher</td>\n",
       "      <td>e</td>\n",
       "      <td>[5, 15]</td>\n",
       "      <td>[x, f]</td>\n",
       "      <td>NaN</td>\n",
       "      <td>[n]</td>\n",
       "      <td>[t]</td>\n",
       "      <td>NaN</td>\n",
       "      <td>NaN</td>\n",
       "      <td>...</td>\n",
       "      <td>[b]</td>\n",
       "      <td>NaN</td>\n",
       "      <td>[w]</td>\n",
       "      <td>[u]</td>\n",
       "      <td>[w]</td>\n",
       "      <td>[t]</td>\n",
       "      <td>[g]</td>\n",
       "      <td>NaN</td>\n",
       "      <td>[d]</td>\n",
       "      <td>[u, a]</td>\n",
       "    </tr>\n",
       "    <tr>\n",
       "      <th>4</th>\n",
       "      <td>Amanita Family</td>\n",
       "      <td>Death Cap</td>\n",
       "      <td>p</td>\n",
       "      <td>[5, 12]</td>\n",
       "      <td>[x, f]</td>\n",
       "      <td>[h]</td>\n",
       "      <td>[r]</td>\n",
       "      <td>[f]</td>\n",
       "      <td>NaN</td>\n",
       "      <td>[c]</td>\n",
       "      <td>...</td>\n",
       "      <td>NaN</td>\n",
       "      <td>NaN</td>\n",
       "      <td>[w]</td>\n",
       "      <td>[u]</td>\n",
       "      <td>[w]</td>\n",
       "      <td>[t]</td>\n",
       "      <td>[g, p]</td>\n",
       "      <td>NaN</td>\n",
       "      <td>[d]</td>\n",
       "      <td>[u, a]</td>\n",
       "    </tr>\n",
       "  </tbody>\n",
       "</table>\n",
       "<p>5 rows × 23 columns</p>\n",
       "</div>"
      ],
      "text/plain": [
       "           family               name class cap-diameter cap-shape Cap-surface  \\\n",
       "0  Amanita Family         Fly Agaric     p     [10, 20]    [x, f]      [g, h]   \n",
       "1  Amanita Family        Panther Cap     p      [5, 10]    [p, x]         [g]   \n",
       "2  Amanita Family  False Panther Cap     p     [10, 15]    [x, f]         NaN   \n",
       "3  Amanita Family        The Blusher     e      [5, 15]    [x, f]         NaN   \n",
       "4  Amanita Family          Death Cap     p      [5, 12]    [x, f]         [h]   \n",
       "\n",
       "  cap-color does-bruise-or-bleed gill-attachment gill-spacing  ... stem-root  \\\n",
       "0    [e, o]                  [f]             [e]          NaN  ...       [s]   \n",
       "1       [n]                  [f]             [e]          NaN  ...       NaN   \n",
       "2    [g, n]                  [f]             [e]          NaN  ...       NaN   \n",
       "3       [n]                  [t]             NaN          NaN  ...       [b]   \n",
       "4       [r]                  [f]             NaN          [c]  ...       NaN   \n",
       "\n",
       "  stem-surface stem-color veil-type veil-color has-ring ring-type  \\\n",
       "0          [y]        [w]       [u]        [w]      [t]    [g, p]   \n",
       "1          [y]        [w]       [u]        [w]      [t]       [p]   \n",
       "2          NaN        [w]       [u]        [w]      [t]    [e, g]   \n",
       "3          NaN        [w]       [u]        [w]      [t]       [g]   \n",
       "4          NaN        [w]       [u]        [w]      [t]    [g, p]   \n",
       "\n",
       "  Spore-print-color habitat     season  \n",
       "0               NaN     [d]  [u, a, w]  \n",
       "1               NaN     [d]     [u, a]  \n",
       "2               NaN     [d]     [u, a]  \n",
       "3               NaN     [d]     [u, a]  \n",
       "4               NaN     [d]     [u, a]  \n",
       "\n",
       "[5 rows x 23 columns]"
      ]
     },
     "execution_count": 22,
     "metadata": {},
     "output_type": "execute_result"
    }
   ],
   "source": [
    "mushroom_species_info_df = pd.read_csv(\"../dbs/MushroomDataset/primary_data.csv\", sep=\";\")\n",
    "mushroom_species_info_df.head()\n"
   ]
  },
  {
   "cell_type": "code",
   "execution_count": 23,
   "metadata": {},
   "outputs": [
    {
     "data": {
      "text/html": [
       "<div>\n",
       "<style scoped>\n",
       "    .dataframe tbody tr th:only-of-type {\n",
       "        vertical-align: middle;\n",
       "    }\n",
       "\n",
       "    .dataframe tbody tr th {\n",
       "        vertical-align: top;\n",
       "    }\n",
       "\n",
       "    .dataframe thead th {\n",
       "        text-align: right;\n",
       "    }\n",
       "</style>\n",
       "<table border=\"1\" class=\"dataframe\">\n",
       "  <thead>\n",
       "    <tr style=\"text-align: right;\">\n",
       "      <th></th>\n",
       "      <th>class</th>\n",
       "      <th>cap-diameter</th>\n",
       "      <th>cap-shape</th>\n",
       "      <th>cap-surface</th>\n",
       "      <th>cap-color</th>\n",
       "      <th>does-bruise-or-bleed</th>\n",
       "      <th>gill-attachment</th>\n",
       "      <th>gill-spacing</th>\n",
       "      <th>gill-color</th>\n",
       "      <th>stem-height</th>\n",
       "      <th>...</th>\n",
       "      <th>stem-root</th>\n",
       "      <th>stem-surface</th>\n",
       "      <th>stem-color</th>\n",
       "      <th>veil-type</th>\n",
       "      <th>veil-color</th>\n",
       "      <th>has-ring</th>\n",
       "      <th>ring-type</th>\n",
       "      <th>spore-print-color</th>\n",
       "      <th>habitat</th>\n",
       "      <th>season</th>\n",
       "    </tr>\n",
       "  </thead>\n",
       "  <tbody>\n",
       "    <tr>\n",
       "      <th>0</th>\n",
       "      <td>p</td>\n",
       "      <td>15.26</td>\n",
       "      <td>x</td>\n",
       "      <td>g</td>\n",
       "      <td>o</td>\n",
       "      <td>f</td>\n",
       "      <td>e</td>\n",
       "      <td>NaN</td>\n",
       "      <td>w</td>\n",
       "      <td>16.95</td>\n",
       "      <td>...</td>\n",
       "      <td>s</td>\n",
       "      <td>y</td>\n",
       "      <td>w</td>\n",
       "      <td>u</td>\n",
       "      <td>w</td>\n",
       "      <td>t</td>\n",
       "      <td>g</td>\n",
       "      <td>NaN</td>\n",
       "      <td>d</td>\n",
       "      <td>w</td>\n",
       "    </tr>\n",
       "    <tr>\n",
       "      <th>1</th>\n",
       "      <td>p</td>\n",
       "      <td>16.60</td>\n",
       "      <td>x</td>\n",
       "      <td>g</td>\n",
       "      <td>o</td>\n",
       "      <td>f</td>\n",
       "      <td>e</td>\n",
       "      <td>NaN</td>\n",
       "      <td>w</td>\n",
       "      <td>17.99</td>\n",
       "      <td>...</td>\n",
       "      <td>s</td>\n",
       "      <td>y</td>\n",
       "      <td>w</td>\n",
       "      <td>u</td>\n",
       "      <td>w</td>\n",
       "      <td>t</td>\n",
       "      <td>g</td>\n",
       "      <td>NaN</td>\n",
       "      <td>d</td>\n",
       "      <td>u</td>\n",
       "    </tr>\n",
       "    <tr>\n",
       "      <th>2</th>\n",
       "      <td>p</td>\n",
       "      <td>14.07</td>\n",
       "      <td>x</td>\n",
       "      <td>g</td>\n",
       "      <td>o</td>\n",
       "      <td>f</td>\n",
       "      <td>e</td>\n",
       "      <td>NaN</td>\n",
       "      <td>w</td>\n",
       "      <td>17.80</td>\n",
       "      <td>...</td>\n",
       "      <td>s</td>\n",
       "      <td>y</td>\n",
       "      <td>w</td>\n",
       "      <td>u</td>\n",
       "      <td>w</td>\n",
       "      <td>t</td>\n",
       "      <td>g</td>\n",
       "      <td>NaN</td>\n",
       "      <td>d</td>\n",
       "      <td>w</td>\n",
       "    </tr>\n",
       "    <tr>\n",
       "      <th>3</th>\n",
       "      <td>p</td>\n",
       "      <td>14.17</td>\n",
       "      <td>f</td>\n",
       "      <td>h</td>\n",
       "      <td>e</td>\n",
       "      <td>f</td>\n",
       "      <td>e</td>\n",
       "      <td>NaN</td>\n",
       "      <td>w</td>\n",
       "      <td>15.77</td>\n",
       "      <td>...</td>\n",
       "      <td>s</td>\n",
       "      <td>y</td>\n",
       "      <td>w</td>\n",
       "      <td>u</td>\n",
       "      <td>w</td>\n",
       "      <td>t</td>\n",
       "      <td>p</td>\n",
       "      <td>NaN</td>\n",
       "      <td>d</td>\n",
       "      <td>w</td>\n",
       "    </tr>\n",
       "    <tr>\n",
       "      <th>4</th>\n",
       "      <td>p</td>\n",
       "      <td>14.64</td>\n",
       "      <td>x</td>\n",
       "      <td>h</td>\n",
       "      <td>o</td>\n",
       "      <td>f</td>\n",
       "      <td>e</td>\n",
       "      <td>NaN</td>\n",
       "      <td>w</td>\n",
       "      <td>16.53</td>\n",
       "      <td>...</td>\n",
       "      <td>s</td>\n",
       "      <td>y</td>\n",
       "      <td>w</td>\n",
       "      <td>u</td>\n",
       "      <td>w</td>\n",
       "      <td>t</td>\n",
       "      <td>p</td>\n",
       "      <td>NaN</td>\n",
       "      <td>d</td>\n",
       "      <td>w</td>\n",
       "    </tr>\n",
       "  </tbody>\n",
       "</table>\n",
       "<p>5 rows × 21 columns</p>\n",
       "</div>"
      ],
      "text/plain": [
       "  class  cap-diameter cap-shape cap-surface cap-color does-bruise-or-bleed  \\\n",
       "0     p         15.26         x           g         o                    f   \n",
       "1     p         16.60         x           g         o                    f   \n",
       "2     p         14.07         x           g         o                    f   \n",
       "3     p         14.17         f           h         e                    f   \n",
       "4     p         14.64         x           h         o                    f   \n",
       "\n",
       "  gill-attachment gill-spacing gill-color  stem-height  ...  stem-root  \\\n",
       "0               e          NaN          w        16.95  ...          s   \n",
       "1               e          NaN          w        17.99  ...          s   \n",
       "2               e          NaN          w        17.80  ...          s   \n",
       "3               e          NaN          w        15.77  ...          s   \n",
       "4               e          NaN          w        16.53  ...          s   \n",
       "\n",
       "  stem-surface stem-color veil-type veil-color has-ring ring-type  \\\n",
       "0            y          w         u          w        t         g   \n",
       "1            y          w         u          w        t         g   \n",
       "2            y          w         u          w        t         g   \n",
       "3            y          w         u          w        t         p   \n",
       "4            y          w         u          w        t         p   \n",
       "\n",
       "  spore-print-color habitat season  \n",
       "0               NaN       d      w  \n",
       "1               NaN       d      u  \n",
       "2               NaN       d      w  \n",
       "3               NaN       d      w  \n",
       "4               NaN       d      w  \n",
       "\n",
       "[5 rows x 21 columns]"
      ]
     },
     "execution_count": 23,
     "metadata": {},
     "output_type": "execute_result"
    }
   ],
   "source": [
    "df = pd.read_csv(\"../dbs/MushroomDataset/secondary_data.csv\", sep=\";\")\n",
    "df.head()"
   ]
  },
  {
   "cell_type": "markdown",
   "metadata": {},
   "source": [
    "## EDA\n",
    "Wykorzytane AutoEDA z `ydata-profiling`."
   ]
  },
  {
   "cell_type": "code",
   "execution_count": 24,
   "metadata": {},
   "outputs": [
    {
     "data": {
      "application/vnd.jupyter.widget-view+json": {
       "model_id": "5ddbef7e1f10492e835b484fb96286e1",
       "version_major": 2,
       "version_minor": 0
      },
      "text/plain": [
       "Summarize dataset:   0%|          | 0/5 [00:00<?, ?it/s]"
      ]
     },
     "metadata": {},
     "output_type": "display_data"
    },
    {
     "name": "stderr",
     "output_type": "stream",
     "text": [
      "/opt/miniconda3/envs/py310/lib/python3.10/site-packages/ydata_profiling/model/correlations.py:66: UserWarning: There was an attempt to calculate the auto correlation, but this failed.\n",
      "To hide this warning, disable the calculation\n",
      "(using `df.profile_report(correlations={\"auto\": {\"calculate\": False}})`\n",
      "If this is problematic for your use case, please report this as an issue:\n",
      "https://github.com/ydataai/ydata-profiling/issues\n",
      "(include the error message: 'could not convert string to float: 'o'')\n",
      "  warnings.warn(\n"
     ]
    },
    {
     "data": {
      "application/vnd.jupyter.widget-view+json": {
       "model_id": "170ce5aa5a9d4afb84ab75ae52df57ce",
       "version_major": 2,
       "version_minor": 0
      },
      "text/plain": [
       "Generate report structure:   0%|          | 0/1 [00:00<?, ?it/s]"
      ]
     },
     "metadata": {},
     "output_type": "display_data"
    },
    {
     "data": {
      "application/vnd.jupyter.widget-view+json": {
       "model_id": "50190fa8d0604df1947d39b08887187a",
       "version_major": 2,
       "version_minor": 0
      },
      "text/plain": [
       "Render HTML:   0%|          | 0/1 [00:00<?, ?it/s]"
      ]
     },
     "metadata": {},
     "output_type": "display_data"
    },
    {
     "data": {
      "application/vnd.jupyter.widget-view+json": {
       "model_id": "98d0792d37154c4683e1f4fdadeef6ed",
       "version_major": 2,
       "version_minor": 0
      },
      "text/plain": [
       "Export report to file:   0%|          | 0/1 [00:00<?, ?it/s]"
      ]
     },
     "metadata": {},
     "output_type": "display_data"
    }
   ],
   "source": [
    "# AutoEDA\n",
    "profile = ProfileReport(df, title=\"Secondary Mushroom Data Report\", explorative=True)\n",
    "profile.to_file(\"mushroom_report.html\")"
   ]
  },
  {
   "cell_type": "code",
   "execution_count": null,
   "metadata": {},
   "outputs": [],
   "source": [
    "# sns.pairplot(df, hue='class', palette='coolwarm')\n",
    "# plt.show()"
   ]
  },
  {
   "cell_type": "code",
   "execution_count": 25,
   "metadata": {},
   "outputs": [],
   "source": [
    "# profile.to_widgets()"
   ]
  },
  {
   "cell_type": "markdown",
   "metadata": {},
   "source": [
    "## Informacje o zbiorze danych ze strony\n",
    "\n",
    "### Classification\n",
    "- **Edibility**: Binary class divided into edible (`e`) and poisonous (`p`). Poisonous category also includes mushrooms of unknown edibility.\n",
    "\n",
    "### Features\n",
    "1. **Cap Diameter** (Metric)\n",
    "   - Type: Float number (cm)\n",
    "\n",
    "2. **Cap Shape** (Nominal)\n",
    "   - Options: Bell (`b`), Conical (`c`), Convex (`x`), Flat (`f`), Sunken (`s`), Spherical (`p`), Others (`o`)\n",
    "\n",
    "3. **Cap Surface** (Nominal)\n",
    "   - Options: Fibrous (`i`), Grooves (`g`), Scaly (`y`), Smooth (`s`), Shiny (`h`), Leathery (`l`), Silky (`k`), Sticky (`t`), Wrinkled (`w`), Fleshy (`e`)\n",
    "\n",
    "4. **Cap Color** (Nominal)\n",
    "   - Options: Brown (`n`), Buff (`b`), Gray (`g`), Green (`r`), Pink (`p`), Purple (`u`), Red (`e`), White (`w`), Yellow (`y`), Blue (`l`), Orange (`o`), Black (`k`)\n",
    "\n",
    "5. **Does Bruise/Bleed** (Nominal)\n",
    "   - Options: Bruises or Bleeding (`t`), No (`f`)\n",
    "\n",
    "6. **Gill Attachment** (Nominal)\n",
    "   - Options: Adnate (`a`), Adnexed (`x`), Decurrent (`d`), Free (`e`), Sinuate (`s`), Pores (`p`), None (`f`), Unknown (`?`)\n",
    "\n",
    "7. **Gill Spacing** (Nominal)\n",
    "   - Options: Close (`c`), Distant (`d`), None (`f`)\n",
    "\n",
    "8. **Gill Color** (Nominal)\n",
    "   - Options: See Cap Color + None (`f`)\n",
    "\n",
    "9. **Stem Height** (Metric)\n",
    "   - Type: Float number (cm)\n",
    "\n",
    "10. **Stem Width** (Metric)\n",
    "    - Type: Float number (mm)\n",
    "\n",
    "11. **Stem Root** (Nominal)\n",
    "    - Options: Bulbous (`b`), Swollen (`s`), Club (`c`), Cup (`u`), Equal (`e`), Rhizomorphs (`z`), Rooted (`r`)\n",
    "\n",
    "12. **Stem Surface** (Nominal)\n",
    "    - Options: See Cap Surface + None (`f`)\n",
    "\n",
    "13. **Stem Color** (Nominal)\n",
    "    - Options: See Cap Color + None (`f`)\n",
    "\n",
    "14. **Veil Type** (Nominal)\n",
    "    - Options: Partial (`p`), Universal (`u`)\n",
    "\n",
    "15. **Veil Color** (Nominal)\n",
    "    - Options: See Cap Color + None (`f`)\n",
    "\n",
    "16. **Has Ring** (Nominal)\n",
    "    - Options: Ring (`t`), None (`f`)\n",
    "\n",
    "17. **Ring Type** (Nominal)\n",
    "    - Options: Cobwebby (`c`), Evanescent (`e`), Flaring (`r`), Grooved (`g`), Large (`l`), Pendant (`p`), Sheathing (`s`), Zone (`z`), Scaly (`y`), Movable (`m`), None (`f`), Unknown (`?`)\n",
    "\n",
    "18. **Spore Print Color** (Nominal)\n",
    "    - Options: See Cap Color\n",
    "\n",
    "19. **Habitat** (Nominal)\n",
    "    - Options: Grasses (`g`), Leaves (`l`), Meadows (`m`), Paths (`p`), Heaths (`h`), Urban (`u`), Waste (`w`), Woods (`d`)\n",
    "\n",
    "20. **Season** (Nominal)\n",
    "    - Options: Spring (`s`), Summer (`u`), Autumn (`a`), Winter (`w`)\n"
   ]
  },
  {
   "cell_type": "markdown",
   "metadata": {},
   "source": [
    "## Wnioski EDA:\n",
    "\n",
    "### Brakujące wartości:\n",
    "Powyżej 50%:\n",
    "- `veil-type`: 94.8% brakujących wartości, reszta oznaczona jako `u` - zamiana kolumny na binarną.\n",
    "- `spore-print-color`: 89.6% brakujących wartości, reszta: 7 kategorii - wpisanie `none` jako brakująca wartość.\n",
    "- `veil-color`: 87.9% brakujących wartości, reszta: 5 kategorii - wpisanie `f` jako brakująca wartość (tak jak w opisie wyżej).\n",
    "- `stem-root`: 84.4% brakujących wartości, reszta: 5 kategorii - wpisanie `none` jako brakująca wartość.\n",
    "- `stem-surface`: 62.4% brakujących wartości, reszta: 7 kategorii - wpisanie `f` jako brakująca wartość (tak jak w opisie wyżej).\n",
    "\n",
    "Poniżej 50%:\n",
    "- `gill-spacing`: 41% brakuje, reszta: 7 kategorii - wpisanie `f` jako brakująca wartość.\n",
    "- `cap-surface`: 23.1% brakuje, reszta: 11 kategorii - wpisanie `unknown` jako brakująca wartość.\n",
    "- `gill-attachment`: 16.2% brakuje, reszta: 7 kategorii - wpisanie `none` jako brakująca wartość.\n",
    "- `ring-type`: 4% brakuje, reszta 8 kategorii - wpisanie `unknown` jako brakująca wartość\n",
    "\n",
    "Numeryczne: \n",
    "- `stem-width`: 1.7% wartości zerowych - usunięcie brakujących wierszy\n",
    "- `stem-height`: 1.7% wartości zerowych - usunięcie brakujących wierszy\n",
    "\n"
   ]
  },
  {
   "cell_type": "markdown",
   "metadata": {},
   "source": [
    "## Przygotowanie danych do modelowania\n"
   ]
  },
  {
   "cell_type": "code",
   "execution_count": 27,
   "metadata": {},
   "outputs": [],
   "source": [
    "# Convert 'veil-type' to a binary column (e.g., 0 if NaN, 1 if 'u')\n",
    "df['veil-type'] = np.where(df['veil-type'].isnull(), 0, 1)\n",
    "\n",
    "# Fill missing values for 'spore-print-color' and 'stem-root' with 'none'\n",
    "df['spore-print-color'] = df['spore-print-color'].fillna('none')\n",
    "df['stem-root'] = df['stem-root'].fillna('none')\n",
    "\n",
    "# Fill missing values for 'veil-color' and 'stem-surface' with 'f'\n",
    "df['veil-color'] = df['veil-color'].fillna('f')\n",
    "df['stem-surface'] = df['stem-surface'].fillna('f')\n",
    "\n",
    "# Fill missing values for 'gill-spacing' with 'f'\n",
    "df['gill-spacing'] = df['gill-spacing'].fillna('f')\n",
    "\n",
    "# Fill missing values for 'cap-surface' with 'unknown'\n",
    "df['cap-surface'] = df['cap-surface'].fillna('unknown')\n",
    "\n",
    "# Fill missing values for 'gill-attachment' with 'none'\n",
    "df['gill-attachment'] = df['gill-attachment'].fillna('none')\n",
    "\n",
    "# Fill missing values for 'ring-type' with 'unknown'\n",
    "df['ring-type'] = df['ring-type'].fillna('unknown')\n",
    "\n",
    "# Remove rows with zero values in 'stem-width' and 'stem-height'\n",
    "df = df[df['stem-width'] != 0]\n",
    "df = df[df['stem-height'] != 0]\n"
   ]
  },
  {
   "cell_type": "code",
   "execution_count": 28,
   "metadata": {},
   "outputs": [
    {
     "data": {
      "application/vnd.jupyter.widget-view+json": {
       "model_id": "1d0fe96e0b354c04b8a5f8e17efc0769",
       "version_major": 2,
       "version_minor": 0
      },
      "text/plain": [
       "Summarize dataset:   0%|          | 0/5 [00:00<?, ?it/s]"
      ]
     },
     "metadata": {},
     "output_type": "display_data"
    },
    {
     "name": "stderr",
     "output_type": "stream",
     "text": [
      "/opt/miniconda3/envs/py310/lib/python3.10/site-packages/ydata_profiling/model/correlations.py:66: UserWarning: There was an attempt to calculate the auto correlation, but this failed.\n",
      "To hide this warning, disable the calculation\n",
      "(using `df.profile_report(correlations={\"auto\": {\"calculate\": False}})`\n",
      "If this is problematic for your use case, please report this as an issue:\n",
      "https://github.com/ydataai/ydata-profiling/issues\n",
      "(include the error message: 'could not convert string to float: 'o'')\n",
      "  warnings.warn(\n"
     ]
    },
    {
     "data": {
      "application/vnd.jupyter.widget-view+json": {
       "model_id": "3ce446984f8d4f9abd7361c5153ca5eb",
       "version_major": 2,
       "version_minor": 0
      },
      "text/plain": [
       "Generate report structure:   0%|          | 0/1 [00:00<?, ?it/s]"
      ]
     },
     "metadata": {},
     "output_type": "display_data"
    },
    {
     "data": {
      "application/vnd.jupyter.widget-view+json": {
       "model_id": "c314416dd0b444a09ac289caca48cfd6",
       "version_major": 2,
       "version_minor": 0
      },
      "text/plain": [
       "Render HTML:   0%|          | 0/1 [00:00<?, ?it/s]"
      ]
     },
     "metadata": {},
     "output_type": "display_data"
    },
    {
     "data": {
      "application/vnd.jupyter.widget-view+json": {
       "model_id": "d43bb141eace46208768b9bd60aeebfe",
       "version_major": 2,
       "version_minor": 0
      },
      "text/plain": [
       "Export report to file:   0%|          | 0/1 [00:00<?, ?it/s]"
      ]
     },
     "metadata": {},
     "output_type": "display_data"
    }
   ],
   "source": [
    "report_after_correction = ProfileReport(df, title=\"Secondary Mushroom Data Report After Correction\", explorative=True)\n",
    "report_after_correction.to_file(\"report_after_correction.html\")"
   ]
  },
  {
   "cell_type": "markdown",
   "metadata": {},
   "source": [
    "## Wytrenowanie drzew decyzyjnych\n"
   ]
  },
  {
   "cell_type": "markdown",
   "metadata": {},
   "source": [
    "### Przeszukiwanie hiperparametrów"
   ]
  },
  {
   "cell_type": "markdown",
   "metadata": {},
   "source": [
    "### Wizualizacja drzewa"
   ]
  }
 ],
 "metadata": {
  "kernelspec": {
   "display_name": "py310",
   "language": "python",
   "name": "python3"
  },
  "language_info": {
   "codemirror_mode": {
    "name": "ipython",
    "version": 3
   },
   "file_extension": ".py",
   "mimetype": "text/x-python",
   "name": "python",
   "nbconvert_exporter": "python",
   "pygments_lexer": "ipython3",
   "version": "3.10.14"
  }
 },
 "nbformat": 4,
 "nbformat_minor": 2
}
